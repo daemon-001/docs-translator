{
 "cells": [
  {
   "cell_type": "markdown",
   "metadata": {},
   "source": [
    "## Text Summarization Using Langchain "
   ]
  },
  {
   "cell_type": "code",
   "execution_count": 1,
   "metadata": {},
   "outputs": [],
   "source": [
    "import os \n",
    "from openai import OpenAI\n",
    "open_api_key=\"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\"\n",
    "os.environ[\"OPENAI_API_KEY\"]=open_api_key"
   ]
  },
  {
   "cell_type": "code",
   "execution_count": 2,
   "metadata": {},
   "outputs": [],
   "source": [
    "## Basic Prompt Summarization\n",
    "from langchain.chat_models import ChatOpenAI\n",
    "from langchain.schema import(\n",
    "    AIMessage,\n",
    "    HumanMessage,\n",
    "    SystemMessage\n",
    ")"
   ]
  },
  {
   "cell_type": "code",
   "execution_count": 3,
   "metadata": {},
   "outputs": [],
   "source": [
    "speech=\"\"\"\n",
    "People across the country, involved in government, political, and social activities, are dedicating their time to make the ‘Viksit Bharat Sankalp Yatra’ (Developed India Resolution Journey) successful. Therefore, as a Member of Parliament, it was my responsibility to also contribute my time to this program. So, today, I have come here just as a Member of Parliament and your ‘sevak’, ready to participate in this program, much like you.\n",
    "\n",
    "In our country, governments have come and gone, numerous schemes have been formulated, discussions have taken place, and big promises have been made. However, my experience and observations led me to believe that the most critical aspect that requires attention is ensuring that the government’s plans reach the intended beneficiaries without any hassles. If there is a ‘Pradhan Mantri Awas Yojana’ (Prime Minister’s housing scheme), then those who are living in jhuggis and slums should get their houses. And he should not need to make rounds of the government offices for this purpose. The government should reach him. Since you have assigned this responsibility to me, about four crore families have got their ‘pucca’ houses. However, I have encountered cases where someone is left out of the government benefits. Therefore, I have decided to tour the country again, to listen to people’s experiences with government schemes, to understand whether they received the intended benefits, and to ensure that the programs are reaching everyone as planned without paying any bribes. We will get the real picture if we visit them again. Therefore, this ‘Viksit Bharat Sankalp Yatra’ is, in a way, my own examination. I want to hear from you and the people across the country whether what I envisioned and the work I have been doing aligns with reality and whether it has reached those for whom it was meant.\n",
    "\n",
    "It is crucial to check whether the work that was supposed to happen has indeed taken place. I recently met some individuals who utilized the Ayushman card to get treatment for serious illnesses. One person met with a severe accident, and after using the card, he could afford the necessary operation, and now he is recovering well. When I asked him, he said: “How could I afford this treatment? Now that there is the Ayushman card, I mustered courage and underwent an operation. Now I am perfectly fine.”  Such stories are blessings to me.\n",
    "\n",
    "The bureaucrats, who prepare good schemes, expedite the paperwork and even allocate funds, also feel satisfied that 50 or 100 people who were supposed to get the funds have got it. The funds meant for a thousand villages have been released. But their job satisfaction peaks when they hear that their work has directly impacted someone’s life positively. When they see the tangible results of their efforts, their enthusiasm multiplies. They feel satisfied. Therefore, ‘Viksit Bharat Sankalp Yatra’ has had a positive impact on government officers. It has made them more enthusiastic about their work, especially when they witness the tangible benefits reaching the people. Officers now feel satisfied with their work, saying, “I made a good plan, I created a file, and the intended beneficiaries received the benefits.” When they find that the money has reached a poor widow under the Jeevan Jyoti scheme and it was a great help to her during her crisis, they realise that they have done a good job. When a government officer listens to such stories, he feels very satisfied.\n",
    "\n",
    "There are very few who understand the power and impact of the ‘Viksit Bharat Sankalp Yatra’. When I hear people connected to bureaucratic circles talking about it, expressing their satisfaction, it resonates with me. I’ve heard stories where someone suddenly received 2 lakh rupees after the death of her husband, and a sister mentioned how the arrival of gas in her home transformed her lives. The most significant aspect is when someone says that the line between rich and poor has vanished. While the slogan ‘Garibi Hatao’ (Remove Poverty) is one thing, but the real change happens when a person says, “As soon as the gas stove came to my house, the distinction between poverty and affluence disappeared.\n",
    "\"\"\""
   ]
  },
  {
   "cell_type": "code",
   "execution_count": 7,
   "metadata": {},
   "outputs": [],
   "source": [
    "from openai import OpenAI\n",
    "\n",
    "chat_messages=[\n",
    "    SystemMessage(content='You are an expert assistant with expertize in summarizing speeches'),\n",
    "    HumanMessage(content=f'Please provide a short and concise summary of the following speech:\\n TEXT: {speech}')\n",
    "]\n",
    "\n",
    "# llm=ChatOpenAI(model_name='gpt-3.5-turbo', base_url=\"https://openrouter.ai/api/v1\")\n",
    "# llm=ChatOpenAI(model_name='gpt-4o-mini', base_url=\"https://openrouter.ai/api/v1\")\n",
    "\n",
    "llm = ChatOpenAI(\n",
    "  base_url=\"https://openrouter.ai/api/v1\",\n",
    "  api_key=\"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\",\n",
    "  model=\"gpt-4o-mini\",\n",
    "  # messages=[\n",
    "  #   {\n",
    "  #     \"role\": \"user\",\n",
    "  #     \"content\": \"What is the meaning of life?\"\n",
    "  #   }\n",
    "  # ]\n",
    ")\n",
    "\n",
    "# completion = client.completions.create(\n",
    "#   # extra_headers={\n",
    "#   #   \"HTTP-Referer\": $YOUR_SITE_URL, // Optional, for including your app on openrouter.ai rankings.\n",
    "#   #   \"X-Title\": $YOUR_APP_NAME, // Optional. Shows in rankings on openrouter.ai.\n",
    "#   # },\n",
    "#   model=\"openai/gpt-3.5-turbo\",\n",
    "#   messages=[\n",
    "#     {\n",
    "#       \"role\": \"user\",\n",
    "#       \"content\": \"What is the meaning of life?\"\n",
    "#     }\n",
    "#   ]\n",
    "# )\n",
    "# print(completion.choices[0].message.content)\n",
    "\n"
   ]
  },
  {
   "cell_type": "code",
   "execution_count": 8,
   "metadata": {},
   "outputs": [
    {
     "data": {
      "text/plain": [
       "851"
      ]
     },
     "execution_count": 8,
     "metadata": {},
     "output_type": "execute_result"
    }
   ],
   "source": [
    "##total tokens\n",
    "llm.get_num_tokens(speech)\n",
    "# client.get_num_tokens(speech)\n"
   ]
  },
  {
   "cell_type": "code",
   "execution_count": 9,
   "metadata": {},
   "outputs": [
    {
     "data": {
      "text/plain": [
       "\"In this speech, the speaker emphasizes the importance of the 'Viksit Bharat Sankalp Yatra' (Developed India Resolution Journey) and their commitment as a Member of Parliament to ensure government schemes effectively reach the intended beneficiaries. They reflect on the necessity of making sure that individuals, particularly those in need, receive assistance without bureaucratic hurdles. The speaker recounts positive stories of beneficiaries who have benefited from government programs, highlighting the satisfaction and motivation it brings to both the recipients and the bureaucrats involved. They stress the significance of direct feedback from the public to assess the real impact of these initiatives, noting that true progress is evident when the gap between rich and poor begins to close. Ultimately, the speaker aims to gather insights to align their vision with the actual experiences of citizens across the country.\""
      ]
     },
     "execution_count": 9,
     "metadata": {},
     "output_type": "execute_result"
    }
   ],
   "source": [
    "llm(chat_messages).content"
   ]
  },
  {
   "cell_type": "code",
   "execution_count": 10,
   "metadata": {},
   "outputs": [
    {
     "name": "stdout",
     "output_type": "stream",
     "text": [
      "In a speech promoting the 'Viksit Bharat Sankalp Yatra' (Developed India Resolution Journey), a Member of Parliament emphasizes the importance of ensuring that government schemes effectively reach their intended beneficiaries. He reflects on his responsibility to participate in the initiative and shares his commitment to touring the country to gather feedback on the implementation of various government programs, including housing and healthcare. He highlights positive stories from individuals who have benefited from schemes like the Ayushman card, illustrating the tangible impact of these initiatives. The MP underscores the satisfaction and motivation felt by bureaucrats when they see the real-life benefits of their work, noting that the Yatra has fostered enthusiasm among officials. He concludes by stressing that true progress is visible when the gap between the rich and poor diminishes through effective government action.\n"
     ]
    }
   ],
   "source": [
    "##get_summary\n",
    "print(llm(chat_messages).content)"
   ]
  },
  {
   "cell_type": "markdown",
   "metadata": {},
   "source": [
    "## Prompt Templates Text Summarization"
   ]
  },
  {
   "cell_type": "code",
   "execution_count": 21,
   "metadata": {},
   "outputs": [],
   "source": [
    "\n",
    "from langchain.chains import LLMChain\n",
    "from langchain import PromptTemplate"
   ]
  },
  {
   "cell_type": "code",
   "execution_count": 22,
   "metadata": {},
   "outputs": [],
   "source": [
    "generic_template='''\n",
    "`{speech}` Write a precise detailed summary of the following text in {language}\n",
    "'''\n",
    "prompt=PromptTemplate(\n",
    "    input_variables=['speech','language'],\n",
    "    template=generic_template\n",
    ")"
   ]
  },
  {
   "cell_type": "code",
   "execution_count": 23,
   "metadata": {},
   "outputs": [
    {
     "data": {
      "text/plain": [
       "'\\n`\\nPeople across the country, involved in government, political, and social activities, are dedicating their time to make the ‘Viksit Bharat Sankalp Yatra’ (Developed India Resolution Journey) successful. Therefore, as a Member of Parliament, it was my responsibility to also contribute my time to this program. So, today, I have come here just as a Member of Parliament and your ‘sevak’, ready to participate in this program, much like you.\\n\\nIn our country, governments have come and gone, numerous schemes have been formulated, discussions have taken place, and big promises have been made. However, my experience and observations led me to believe that the most critical aspect that requires attention is ensuring that the government’s plans reach the intended beneficiaries without any hassles. If there is a ‘Pradhan Mantri Awas Yojana’ (Prime Minister’s housing scheme), then those who are living in jhuggis and slums should get their houses. And he should not need to make rounds of the government offices for this purpose. The government should reach him. Since you have assigned this responsibility to me, about four crore families have got their ‘pucca’ houses. However, I have encountered cases where someone is left out of the government benefits. Therefore, I have decided to tour the country again, to listen to people’s experiences with government schemes, to understand whether they received the intended benefits, and to ensure that the programs are reaching everyone as planned without paying any bribes. We will get the real picture if we visit them again. Therefore, this ‘Viksit Bharat Sankalp Yatra’ is, in a way, my own examination. I want to hear from you and the people across the country whether what I envisioned and the work I have been doing aligns with reality and whether it has reached those for whom it was meant.\\n\\nIt is crucial to check whether the work that was supposed to happen has indeed taken place. I recently met some individuals who utilized the Ayushman card to get treatment for serious illnesses. One person met with a severe accident, and after using the card, he could afford the necessary operation, and now he is recovering well. When I asked him, he said: “How could I afford this treatment? Now that there is the Ayushman card, I mustered courage and underwent an operation. Now I am perfectly fine.”  Such stories are blessings to me.\\n\\nThe bureaucrats, who prepare good schemes, expedite the paperwork and even allocate funds, also feel satisfied that 50 or 100 people who were supposed to get the funds have got it. The funds meant for a thousand villages have been released. But their job satisfaction peaks when they hear that their work has directly impacted someone’s life positively. When they see the tangible results of their efforts, their enthusiasm multiplies. They feel satisfied. Therefore, ‘Viksit Bharat Sankalp Yatra’ has had a positive impact on government officers. It has made them more enthusiastic about their work, especially when they witness the tangible benefits reaching the people. Officers now feel satisfied with their work, saying, “I made a good plan, I created a file, and the intended beneficiaries received the benefits.” When they find that the money has reached a poor widow under the Jeevan Jyoti scheme and it was a great help to her during her crisis, they realise that they have done a good job. When a government officer listens to such stories, he feels very satisfied.\\n\\nThere are very few who understand the power and impact of the ‘Viksit Bharat Sankalp Yatra’. When I hear people connected to bureaucratic circles talking about it, expressing their satisfaction, it resonates with me. I’ve heard stories where someone suddenly received 2 lakh rupees after the death of her husband, and a sister mentioned how the arrival of gas in her home transformed her lives. The most significant aspect is when someone says that the line between rich and poor has vanished. While the slogan ‘Garibi Hatao’ (Remove Poverty) is one thing, but the real change happens when a person says, “As soon as the gas stove came to my house, the distinction between poverty and affluence disappeared.\\n` Write a precise detailed summary of the following text in Hindi\\n'"
      ]
     },
     "execution_count": 23,
     "metadata": {},
     "output_type": "execute_result"
    }
   ],
   "source": [
    "prompt.format(speech=speech,language='Hindi')"
   ]
  },
  {
   "cell_type": "code",
   "execution_count": 24,
   "metadata": {},
   "outputs": [],
   "source": [
    "complete_prompt=prompt.format(speech=speech,language='Urdu')"
   ]
  },
  {
   "cell_type": "code",
   "execution_count": 25,
   "metadata": {},
   "outputs": [
    {
     "data": {
      "text/plain": [
       "865"
      ]
     },
     "execution_count": 25,
     "metadata": {},
     "output_type": "execute_result"
    }
   ],
   "source": [
    "llm.get_num_tokens(complete_prompt)"
   ]
  },
  {
   "cell_type": "code",
   "execution_count": 31,
   "metadata": {},
   "outputs": [],
   "source": [
    "llm_chain=LLMChain(llm=llm,prompt=prompt)\n",
    "summary=llm_chain.run({'speech':speech,'language':'urdu'})"
   ]
  },
  {
   "cell_type": "code",
   "execution_count": 33,
   "metadata": {},
   "outputs": [
    {
     "name": "stdout",
     "output_type": "stream",
     "text": [
      "مضمون میں 'وکसित بھارت سنکلپ یاترا' کے حوالے سے بات کی گئی ہے، جس میں مختلف حکومتوں اور سماجی سرگرمیوں میں شامل افراد اس پروگرام کی کامیابی کے لیے اپنی کوششیں کر رہے ہیں۔ ایک رکن پارلیمنٹ کے طور پر، مصنف نے اس پروگرام میں اپنی شرکت کو اپنی ذمہ داری سمجھا ہے۔ انہوں نے اس بات پر زور دیا ہے کہ حکومت کی اسکیمات کا حقیقی فائدہ مستحقین تک بغیر کسی رکاوٹ کے پہنچنا چاہیے، جیسے کہ 'پرہان منتری آواس یوجنا' کے تحت جھگیوں میں رہنے والے لوگوں کو رہائش فراہم کرنا۔\n",
      "\n",
      "مصنف نے یہ بھی بیان کیا ہے کہ وہ ملک بھر میں لوگوں کے تجربات سننے اور یہ جانچنے کے لیے دوبارہ سفر کرنے کا ارادہ رکھتے ہیں کہ آیا حکومت کی اسکیمات حقیقی طور پر ان لوگوں تک پہنچ رہی ہیں جن کے لیے یہ بنائی گئی ہیں۔ انہوں نے کہا کہ حال ہی میں کچھ افراد سے ملاقات ہوئی جنہوں نے 'آیوشمان کارڈ' کا استعمال کرکے علاج کروایا، اور ان کی کہانیوں نے انہیں خوشی دی۔\n",
      "\n",
      "اس کے علاوہ، وہ اس بات پر بھی روشنی ڈالتے ہیں کہ بیوروکریٹک حلقے اس یاترا کی طاقت اور اثرات کو سمجھتے ہیں۔ جب افسران کو یہ معلوم ہوتا ہے کہ ان کی محنت کا حقیقی اثر لوگوں کی زندگیوں پر پڑ رہا ہے، تو وہ زیادہ پرجوش اور مطمئن ہوتے ہیں۔ وہ کہانیاں سن کر خوش ہوتے ہیں جہاں لوگوں کو ان کی مشکلات میں مدد ملی ہے، جیسے کہ ایک بیوہ کو 'جیون جیوتی' اسکیم کے تحت مالی مدد ملنا۔\n",
      "\n",
      "آخر میں، مصنف نے یہ بات کی کہ جب لوگوں کے حالات میں بہتری آتی ہے، تو یہ صرف ایک اسکیم کا نتیجہ نہیں بلکہ سماجی تبدیلی کی علامت ہوتی ہے، جیسے کہ جب کسی گھر میں گیس کی آمد سے زندگی میں بہتری آتی ہے اور امیر اور غریب کے درمیان فرق مٹ جاتا ہے۔\n"
     ]
    }
   ],
   "source": [
    "print(summary)"
   ]
  },
  {
   "cell_type": "markdown",
   "metadata": {},
   "source": [
    "## StuffDocumentChain Text Summarization"
   ]
  },
  {
   "cell_type": "code",
   "execution_count": 122,
   "metadata": {},
   "outputs": [],
   "source": [
    "from PyPDF2 import PdfReader"
   ]
  },
  {
   "cell_type": "code",
   "execution_count": 123,
   "metadata": {},
   "outputs": [],
   "source": [
    "# provide the path of  pdf file/files.\n",
    "pdfreader = PdfReader('D:/Workspace/Project/doc-translator/new/chatbot.pdf')"
   ]
  },
  {
   "cell_type": "code",
   "execution_count": 124,
   "metadata": {},
   "outputs": [],
   "source": [
    "from typing_extensions import Concatenate\n",
    "# read text from pdf\n",
    "text = 'Write a precise detailed summary of the following text in {language}: '\n",
    "for i, page in enumerate(pdfreader.pages):\n",
    "    content = page.extract_text()\n",
    "    if content:\n",
    "        text += content"
   ]
  },
  {
   "cell_type": "code",
   "execution_count": 125,
   "metadata": {},
   "outputs": [
    {
     "data": {
      "text/plain": [
       "'Write a precise detailed summary of the following text in {language}: Specialized Translation Engine for Legal and Technical Language  \\nTitle:   \\nBridging Language Barriers : A Specialized Engine for Legal and Technical Language  \\n(36) Problem Statement: \\nGovernment documents, policies, and services often involve complex legal, technical, and bureaucratic language \\nthat must be accurately translated into local languages to ensure accessibility and compliance. Misinterpretations \\nduring translation can lead to confusion, legal discrepancies, and compromised policy integrity. Current \\ntranslation systems lack the capability to maintain the precision  and context required for such \\nspecialized content.  \\nChallenge:  \\nThe task is to develop a translation engine that preserves the accuracy, integrity, and meaning of legal and technical terms in local languages. By leveraging legal corpora and government -approved terminologies, the \\nsolution aims to enhance multilingual communication in the public sector.  \\nSolution Overview:    (DFD)  (click)    \\nWe propose a specialized translation engine designed to address the unique challenges of translating legal \\nand technical language . The solution employs advanced natural language processing (NLP)  and machine \\nlearning (ML)  algorithms, trained on extensive legal corpora and standardized glossaries. The system provides \\ncontext -aware, accurate translations that uphold the integrity and precision of original documents , the engine is \\ndesigned to handle complex sentence structures and nuanced meanings while remaini ng accessible to non-\\nexpert users.   \\nKey Features:   \\n1. Legal and Technical Corpora Integration : \\n• Train the engine using comprehensive legal datasets and \\n policy documents.  \\n• Ensure the engine is well -versed in legal terminology and  \\ncontexts.  \\n2. Standardized Terminologies : \\n• Utilize government -approved glossaries to ensure consistent translations.  \\n3. Context -Aware NLP Algorithms : \\n• Deploy advanced NLP models to maintain semantic accuracy in translations.  \\n• Implement state-of -the-art natural language processing algorithms  to handle complex legal \\nand technical language.  \\n• Enhance the engine’s ability to understand and process nuanced legal terms.  \\n• Train the engine with the collected data to handle legal and technical terms accurately.  \\n4. User -Friendly Interface:  \\n• Develop a simple and intuitive user interface for government agencies and the public.  \\n• Provide a simple interface for document input and real -time translation output.  \\n• Ensure the platform is accessible via web and mobile devices for broad reach.  \\n5. Continuous Learning and Updates : \\n• Regularly update the system with new data and feedback for improved accuracy.  \\nExpected Outcomes:  \\n• Reliable and precise translations of government documents and services into user’s native languages.  \\n• Improved accessibility and understanding for non-native speakers and local communities.  \\n• Enhanced trust in translated content through standardization and context -aware accuracy.  \\nConclusion:  \\nOur specialized translation engine will accurately handle legal and technical terms;  we aim to bridge language \\nbarriers and ensure the precision of government documents and services in local languages. This solution will foster effective communication and enhance the accessibility of essential legal and technical information for all.\\n '"
      ]
     },
     "execution_count": 125,
     "metadata": {},
     "output_type": "execute_result"
    }
   ],
   "source": [
    "text"
   ]
  },
  {
   "cell_type": "code",
   "execution_count": 126,
   "metadata": {},
   "outputs": [],
   "source": [
    "from langchain.docstore.document import Document"
   ]
  },
  {
   "cell_type": "code",
   "execution_count": 127,
   "metadata": {},
   "outputs": [
    {
     "data": {
      "text/plain": [
       "[Document(metadata={}, page_content='Write a precise detailed summary of the following text in {language}: Specialized Translation Engine for Legal and Technical Language  \\nTitle:   \\nBridging Language Barriers : A Specialized Engine for Legal and Technical Language  \\n(36) Problem Statement: \\nGovernment documents, policies, and services often involve complex legal, technical, and bureaucratic language \\nthat must be accurately translated into local languages to ensure accessibility and compliance. Misinterpretations \\nduring translation can lead to confusion, legal discrepancies, and compromised policy integrity. Current \\ntranslation systems lack the capability to maintain the precision  and context required for such \\nspecialized content.  \\nChallenge:  \\nThe task is to develop a translation engine that preserves the accuracy, integrity, and meaning of legal and technical terms in local languages. By leveraging legal corpora and government -approved terminologies, the \\nsolution aims to enhance multilingual communication in the public sector.  \\nSolution Overview:    (DFD)  (click)    \\nWe propose a specialized translation engine designed to address the unique challenges of translating legal \\nand technical language . The solution employs advanced natural language processing (NLP)  and machine \\nlearning (ML)  algorithms, trained on extensive legal corpora and standardized glossaries. The system provides \\ncontext -aware, accurate translations that uphold the integrity and precision of original documents , the engine is \\ndesigned to handle complex sentence structures and nuanced meanings while remaini ng accessible to non-\\nexpert users.   \\nKey Features:   \\n1. Legal and Technical Corpora Integration : \\n• Train the engine using comprehensive legal datasets and \\n policy documents.  \\n• Ensure the engine is well -versed in legal terminology and  \\ncontexts.  \\n2. Standardized Terminologies : \\n• Utilize government -approved glossaries to ensure consistent translations.  \\n3. Context -Aware NLP Algorithms : \\n• Deploy advanced NLP models to maintain semantic accuracy in translations.  \\n• Implement state-of -the-art natural language processing algorithms  to handle complex legal \\nand technical language.  \\n• Enhance the engine’s ability to understand and process nuanced legal terms.  \\n• Train the engine with the collected data to handle legal and technical terms accurately.  \\n4. User -Friendly Interface:  \\n• Develop a simple and intuitive user interface for government agencies and the public.  \\n• Provide a simple interface for document input and real -time translation output.  \\n• Ensure the platform is accessible via web and mobile devices for broad reach.  \\n5. Continuous Learning and Updates : \\n• Regularly update the system with new data and feedback for improved accuracy.  \\nExpected Outcomes:  \\n• Reliable and precise translations of government documents and services into user’s native languages.  \\n• Improved accessibility and understanding for non-native speakers and local communities.  \\n• Enhanced trust in translated content through standardization and context -aware accuracy.  \\nConclusion:  \\nOur specialized translation engine will accurately handle legal and technical terms;  we aim to bridge language \\nbarriers and ensure the precision of government documents and services in local languages. This solution will foster effective communication and enhance the accessibility of essential legal and technical information for all.\\n ')]"
      ]
     },
     "execution_count": 127,
     "metadata": {},
     "output_type": "execute_result"
    }
   ],
   "source": [
    "docs = [Document(page_content=text, language=\"bengoli\")]\n",
    "docs"
   ]
  },
  {
   "cell_type": "code",
   "execution_count": 128,
   "metadata": {},
   "outputs": [],
   "source": [
    "llm = ChatOpenAI(\n",
    "    base_url=\"https://openrouter.ai/api/v1\",\n",
    "    api_key=open_api_key,\n",
    "    temperature=0,\n",
    "    model_name='gpt-3.5-turbo'\n",
    "     )"
   ]
  },
  {
   "cell_type": "code",
   "execution_count": 129,
   "metadata": {},
   "outputs": [],
   "source": [
    "from langchain import PromptTemplate\n",
    "from langchain.chat_models import ChatOpenAI\n",
    "from langchain.chains.summarize import load_summarize_chain\n",
    "from langchain.docstore.document import Document"
   ]
  },
  {
   "cell_type": "code",
   "execution_count": null,
   "metadata": {},
   "outputs": [],
   "source": []
  },
  {
   "cell_type": "code",
   "execution_count": 130,
   "metadata": {},
   "outputs": [],
   "source": [
    "\n",
    "template = '''\n",
    "`{text}` , Write a precise detailed summary of the following text in {language}\n",
    "'''\n",
    "\n",
    "prompt = PromptTemplate(\n",
    "    input_variables=['text','language'],\n",
    "    template=template\n",
    "    \n",
    ")"
   ]
  },
  {
   "cell_type": "code",
   "execution_count": 131,
   "metadata": {},
   "outputs": [
    {
     "ename": "ValueError",
     "evalue": "Missing some input keys: {'input_documents'}",
     "output_type": "error",
     "traceback": [
      "\u001b[1;31m---------------------------------------------------------------------------\u001b[0m",
      "\u001b[1;31mValueError\u001b[0m                                Traceback (most recent call last)",
      "Cell \u001b[1;32mIn[131], line 7\u001b[0m\n\u001b[0;32m      1\u001b[0m chain \u001b[38;5;241m=\u001b[39m load_summarize_chain(\n\u001b[0;32m      2\u001b[0m     llm,\n\u001b[0;32m      3\u001b[0m     chain_type\u001b[38;5;241m=\u001b[39m\u001b[38;5;124m'\u001b[39m\u001b[38;5;124mstuff\u001b[39m\u001b[38;5;124m'\u001b[39m,\n\u001b[0;32m      4\u001b[0m     prompt\u001b[38;5;241m=\u001b[39mprompt,\n\u001b[0;32m      5\u001b[0m     verbose\u001b[38;5;241m=\u001b[39m\u001b[38;5;28;01mFalse\u001b[39;00m,\n\u001b[0;32m      6\u001b[0m )\n\u001b[1;32m----> 7\u001b[0m output_summary \u001b[38;5;241m=\u001b[39m \u001b[43mchain\u001b[49m\u001b[38;5;241;43m.\u001b[39;49m\u001b[43mrun\u001b[49m\u001b[43m(\u001b[49m\u001b[43mdocs\u001b[49m\u001b[43m)\u001b[49m\n",
      "File \u001b[1;32mc:\\Users\\Nitesh\\AppData\\Local\\Programs\\Python\\Python313\\Lib\\site-packages\\langchain_core\\_api\\deprecation.py:182\u001b[0m, in \u001b[0;36mdeprecated.<locals>.deprecate.<locals>.warning_emitting_wrapper\u001b[1;34m(*args, **kwargs)\u001b[0m\n\u001b[0;32m    180\u001b[0m     warned \u001b[38;5;241m=\u001b[39m \u001b[38;5;28;01mTrue\u001b[39;00m\n\u001b[0;32m    181\u001b[0m     emit_warning()\n\u001b[1;32m--> 182\u001b[0m \u001b[38;5;28;01mreturn\u001b[39;00m \u001b[43mwrapped\u001b[49m\u001b[43m(\u001b[49m\u001b[38;5;241;43m*\u001b[39;49m\u001b[43margs\u001b[49m\u001b[43m,\u001b[49m\u001b[43m \u001b[49m\u001b[38;5;241;43m*\u001b[39;49m\u001b[38;5;241;43m*\u001b[39;49m\u001b[43mkwargs\u001b[49m\u001b[43m)\u001b[49m\n",
      "File \u001b[1;32mc:\\Users\\Nitesh\\AppData\\Local\\Programs\\Python\\Python313\\Lib\\site-packages\\langchain\\chains\\base.py:606\u001b[0m, in \u001b[0;36mChain.run\u001b[1;34m(self, callbacks, tags, metadata, *args, **kwargs)\u001b[0m\n\u001b[0;32m    604\u001b[0m     \u001b[38;5;28;01mif\u001b[39;00m \u001b[38;5;28mlen\u001b[39m(args) \u001b[38;5;241m!=\u001b[39m \u001b[38;5;241m1\u001b[39m:\n\u001b[0;32m    605\u001b[0m         \u001b[38;5;28;01mraise\u001b[39;00m \u001b[38;5;167;01mValueError\u001b[39;00m(\u001b[38;5;124m\"\u001b[39m\u001b[38;5;124m`run` supports only one positional argument.\u001b[39m\u001b[38;5;124m\"\u001b[39m)\n\u001b[1;32m--> 606\u001b[0m     \u001b[38;5;28;01mreturn\u001b[39;00m \u001b[38;5;28;43mself\u001b[39;49m\u001b[43m(\u001b[49m\u001b[43margs\u001b[49m\u001b[43m[\u001b[49m\u001b[38;5;241;43m0\u001b[39;49m\u001b[43m]\u001b[49m\u001b[43m,\u001b[49m\u001b[43m \u001b[49m\u001b[43mcallbacks\u001b[49m\u001b[38;5;241;43m=\u001b[39;49m\u001b[43mcallbacks\u001b[49m\u001b[43m,\u001b[49m\u001b[43m \u001b[49m\u001b[43mtags\u001b[49m\u001b[38;5;241;43m=\u001b[39;49m\u001b[43mtags\u001b[49m\u001b[43m,\u001b[49m\u001b[43m \u001b[49m\u001b[43mmetadata\u001b[49m\u001b[38;5;241;43m=\u001b[39;49m\u001b[43mmetadata\u001b[49m\u001b[43m)\u001b[49m[\n\u001b[0;32m    607\u001b[0m         _output_key\n\u001b[0;32m    608\u001b[0m     ]\n\u001b[0;32m    610\u001b[0m \u001b[38;5;28;01mif\u001b[39;00m kwargs \u001b[38;5;129;01mand\u001b[39;00m \u001b[38;5;129;01mnot\u001b[39;00m args:\n\u001b[0;32m    611\u001b[0m     \u001b[38;5;28;01mreturn\u001b[39;00m \u001b[38;5;28mself\u001b[39m(kwargs, callbacks\u001b[38;5;241m=\u001b[39mcallbacks, tags\u001b[38;5;241m=\u001b[39mtags, metadata\u001b[38;5;241m=\u001b[39mmetadata)[\n\u001b[0;32m    612\u001b[0m         _output_key\n\u001b[0;32m    613\u001b[0m     ]\n",
      "File \u001b[1;32mc:\\Users\\Nitesh\\AppData\\Local\\Programs\\Python\\Python313\\Lib\\site-packages\\langchain_core\\_api\\deprecation.py:182\u001b[0m, in \u001b[0;36mdeprecated.<locals>.deprecate.<locals>.warning_emitting_wrapper\u001b[1;34m(*args, **kwargs)\u001b[0m\n\u001b[0;32m    180\u001b[0m     warned \u001b[38;5;241m=\u001b[39m \u001b[38;5;28;01mTrue\u001b[39;00m\n\u001b[0;32m    181\u001b[0m     emit_warning()\n\u001b[1;32m--> 182\u001b[0m \u001b[38;5;28;01mreturn\u001b[39;00m \u001b[43mwrapped\u001b[49m\u001b[43m(\u001b[49m\u001b[38;5;241;43m*\u001b[39;49m\u001b[43margs\u001b[49m\u001b[43m,\u001b[49m\u001b[43m \u001b[49m\u001b[38;5;241;43m*\u001b[39;49m\u001b[38;5;241;43m*\u001b[39;49m\u001b[43mkwargs\u001b[49m\u001b[43m)\u001b[49m\n",
      "File \u001b[1;32mc:\\Users\\Nitesh\\AppData\\Local\\Programs\\Python\\Python313\\Lib\\site-packages\\langchain\\chains\\base.py:389\u001b[0m, in \u001b[0;36mChain.__call__\u001b[1;34m(self, inputs, return_only_outputs, callbacks, tags, metadata, run_name, include_run_info)\u001b[0m\n\u001b[0;32m    357\u001b[0m \u001b[38;5;250m\u001b[39m\u001b[38;5;124;03m\"\"\"Execute the chain.\u001b[39;00m\n\u001b[0;32m    358\u001b[0m \n\u001b[0;32m    359\u001b[0m \u001b[38;5;124;03mArgs:\u001b[39;00m\n\u001b[1;32m   (...)\u001b[0m\n\u001b[0;32m    380\u001b[0m \u001b[38;5;124;03m        `Chain.output_keys`.\u001b[39;00m\n\u001b[0;32m    381\u001b[0m \u001b[38;5;124;03m\"\"\"\u001b[39;00m\n\u001b[0;32m    382\u001b[0m config \u001b[38;5;241m=\u001b[39m {\n\u001b[0;32m    383\u001b[0m     \u001b[38;5;124m\"\u001b[39m\u001b[38;5;124mcallbacks\u001b[39m\u001b[38;5;124m\"\u001b[39m: callbacks,\n\u001b[0;32m    384\u001b[0m     \u001b[38;5;124m\"\u001b[39m\u001b[38;5;124mtags\u001b[39m\u001b[38;5;124m\"\u001b[39m: tags,\n\u001b[0;32m    385\u001b[0m     \u001b[38;5;124m\"\u001b[39m\u001b[38;5;124mmetadata\u001b[39m\u001b[38;5;124m\"\u001b[39m: metadata,\n\u001b[0;32m    386\u001b[0m     \u001b[38;5;124m\"\u001b[39m\u001b[38;5;124mrun_name\u001b[39m\u001b[38;5;124m\"\u001b[39m: run_name,\n\u001b[0;32m    387\u001b[0m }\n\u001b[1;32m--> 389\u001b[0m \u001b[38;5;28;01mreturn\u001b[39;00m \u001b[38;5;28;43mself\u001b[39;49m\u001b[38;5;241;43m.\u001b[39;49m\u001b[43minvoke\u001b[49m\u001b[43m(\u001b[49m\n\u001b[0;32m    390\u001b[0m \u001b[43m    \u001b[49m\u001b[43minputs\u001b[49m\u001b[43m,\u001b[49m\n\u001b[0;32m    391\u001b[0m \u001b[43m    \u001b[49m\u001b[43mcast\u001b[49m\u001b[43m(\u001b[49m\u001b[43mRunnableConfig\u001b[49m\u001b[43m,\u001b[49m\u001b[43m \u001b[49m\u001b[43m{\u001b[49m\u001b[43mk\u001b[49m\u001b[43m:\u001b[49m\u001b[43m \u001b[49m\u001b[43mv\u001b[49m\u001b[43m \u001b[49m\u001b[38;5;28;43;01mfor\u001b[39;49;00m\u001b[43m \u001b[49m\u001b[43mk\u001b[49m\u001b[43m,\u001b[49m\u001b[43m \u001b[49m\u001b[43mv\u001b[49m\u001b[43m \u001b[49m\u001b[38;5;129;43;01min\u001b[39;49;00m\u001b[43m \u001b[49m\u001b[43mconfig\u001b[49m\u001b[38;5;241;43m.\u001b[39;49m\u001b[43mitems\u001b[49m\u001b[43m(\u001b[49m\u001b[43m)\u001b[49m\u001b[43m \u001b[49m\u001b[38;5;28;43;01mif\u001b[39;49;00m\u001b[43m \u001b[49m\u001b[43mv\u001b[49m\u001b[43m \u001b[49m\u001b[38;5;129;43;01mis\u001b[39;49;00m\u001b[43m \u001b[49m\u001b[38;5;129;43;01mnot\u001b[39;49;00m\u001b[43m \u001b[49m\u001b[38;5;28;43;01mNone\u001b[39;49;00m\u001b[43m}\u001b[49m\u001b[43m)\u001b[49m\u001b[43m,\u001b[49m\n\u001b[0;32m    392\u001b[0m \u001b[43m    \u001b[49m\u001b[43mreturn_only_outputs\u001b[49m\u001b[38;5;241;43m=\u001b[39;49m\u001b[43mreturn_only_outputs\u001b[49m\u001b[43m,\u001b[49m\n\u001b[0;32m    393\u001b[0m \u001b[43m    \u001b[49m\u001b[43minclude_run_info\u001b[49m\u001b[38;5;241;43m=\u001b[39;49m\u001b[43minclude_run_info\u001b[49m\u001b[43m,\u001b[49m\n\u001b[0;32m    394\u001b[0m \u001b[43m\u001b[49m\u001b[43m)\u001b[49m\n",
      "File \u001b[1;32mc:\\Users\\Nitesh\\AppData\\Local\\Programs\\Python\\Python313\\Lib\\site-packages\\langchain\\chains\\base.py:170\u001b[0m, in \u001b[0;36mChain.invoke\u001b[1;34m(self, input, config, **kwargs)\u001b[0m\n\u001b[0;32m    168\u001b[0m \u001b[38;5;28;01mexcept\u001b[39;00m \u001b[38;5;167;01mBaseException\u001b[39;00m \u001b[38;5;28;01mas\u001b[39;00m e:\n\u001b[0;32m    169\u001b[0m     run_manager\u001b[38;5;241m.\u001b[39mon_chain_error(e)\n\u001b[1;32m--> 170\u001b[0m     \u001b[38;5;28;01mraise\u001b[39;00m e\n\u001b[0;32m    171\u001b[0m run_manager\u001b[38;5;241m.\u001b[39mon_chain_end(outputs)\n\u001b[0;32m    173\u001b[0m \u001b[38;5;28;01mif\u001b[39;00m include_run_info:\n",
      "File \u001b[1;32mc:\\Users\\Nitesh\\AppData\\Local\\Programs\\Python\\Python313\\Lib\\site-packages\\langchain\\chains\\base.py:158\u001b[0m, in \u001b[0;36mChain.invoke\u001b[1;34m(self, input, config, **kwargs)\u001b[0m\n\u001b[0;32m    151\u001b[0m run_manager \u001b[38;5;241m=\u001b[39m callback_manager\u001b[38;5;241m.\u001b[39mon_chain_start(\n\u001b[0;32m    152\u001b[0m     \u001b[38;5;28;01mNone\u001b[39;00m,\n\u001b[0;32m    153\u001b[0m     inputs,\n\u001b[0;32m    154\u001b[0m     run_id,\n\u001b[0;32m    155\u001b[0m     name\u001b[38;5;241m=\u001b[39mrun_name,\n\u001b[0;32m    156\u001b[0m )\n\u001b[0;32m    157\u001b[0m \u001b[38;5;28;01mtry\u001b[39;00m:\n\u001b[1;32m--> 158\u001b[0m     \u001b[38;5;28;43mself\u001b[39;49m\u001b[38;5;241;43m.\u001b[39;49m\u001b[43m_validate_inputs\u001b[49m\u001b[43m(\u001b[49m\u001b[43minputs\u001b[49m\u001b[43m)\u001b[49m\n\u001b[0;32m    159\u001b[0m     outputs \u001b[38;5;241m=\u001b[39m (\n\u001b[0;32m    160\u001b[0m         \u001b[38;5;28mself\u001b[39m\u001b[38;5;241m.\u001b[39m_call(inputs, run_manager\u001b[38;5;241m=\u001b[39mrun_manager)\n\u001b[0;32m    161\u001b[0m         \u001b[38;5;28;01mif\u001b[39;00m new_arg_supported\n\u001b[0;32m    162\u001b[0m         \u001b[38;5;28;01melse\u001b[39;00m \u001b[38;5;28mself\u001b[39m\u001b[38;5;241m.\u001b[39m_call(inputs)\n\u001b[0;32m    163\u001b[0m     )\n\u001b[0;32m    165\u001b[0m     final_outputs: Dict[\u001b[38;5;28mstr\u001b[39m, Any] \u001b[38;5;241m=\u001b[39m \u001b[38;5;28mself\u001b[39m\u001b[38;5;241m.\u001b[39mprep_outputs(\n\u001b[0;32m    166\u001b[0m         inputs, outputs, return_only_outputs\n\u001b[0;32m    167\u001b[0m     )\n",
      "File \u001b[1;32mc:\\Users\\Nitesh\\AppData\\Local\\Programs\\Python\\Python313\\Lib\\site-packages\\langchain\\chains\\base.py:290\u001b[0m, in \u001b[0;36mChain._validate_inputs\u001b[1;34m(self, inputs)\u001b[0m\n\u001b[0;32m    288\u001b[0m missing_keys \u001b[38;5;241m=\u001b[39m \u001b[38;5;28mset\u001b[39m(\u001b[38;5;28mself\u001b[39m\u001b[38;5;241m.\u001b[39minput_keys)\u001b[38;5;241m.\u001b[39mdifference(inputs)\n\u001b[0;32m    289\u001b[0m \u001b[38;5;28;01mif\u001b[39;00m missing_keys:\n\u001b[1;32m--> 290\u001b[0m     \u001b[38;5;28;01mraise\u001b[39;00m \u001b[38;5;167;01mValueError\u001b[39;00m(\u001b[38;5;124mf\u001b[39m\u001b[38;5;124m\"\u001b[39m\u001b[38;5;124mMissing some input keys: \u001b[39m\u001b[38;5;132;01m{\u001b[39;00mmissing_keys\u001b[38;5;132;01m}\u001b[39;00m\u001b[38;5;124m\"\u001b[39m)\n",
      "\u001b[1;31mValueError\u001b[0m: Missing some input keys: {'input_documents'}"
     ]
    }
   ],
   "source": [
    "chain = load_summarize_chain(\n",
    "    llm,\n",
    "    chain_type='stuff',\n",
    "    prompt=prompt,\n",
    "    verbose=False,\n",
    ")\n",
    "output_summary = chain.run(docs)"
   ]
  },
  {
   "cell_type": "code",
   "execution_count": 93,
   "metadata": {},
   "outputs": [
    {
     "data": {
      "text/plain": [
       "'सरकारी दस्तावेज, नीतियाँ और सेवाएं अक्सर जटिल कानूनी, तकनीकी और ब्यूरोक्रेटिक भाषा का सामना करते हैं जो स्थानीय भाषाओं में सटीक रूप से अनुवादित होना आवश्यक है ताकि पहुंचनीयता और अनुपालन सुनिश्चित किया जा सके। अनुवाद के दौरान गलत अनुभाव गड़बड़ी, कानूनी विसंगतियाँ और नीति की अखंडता को खतरे में डाल सकती है। वर्तमान अनुवाद सिस्टम इस विशेषकृत सामग्री के लिए आवश्यक सटीकता और संदर्भ बनाए रखने की क्षमता से वंचित है।\\n\\nचुनौती: कानूनी और तकनीकी शब्दों की सटीकता, अखंडता और अर्थ को स्थानीय भाषाओं में अनुवादित करने के लिए एक अनुवाद इंजन विकसित करने का कार्य है। कानूनी कोर्पस और सरकार द्वारा मंजूर शब्दकोशों का उपयोग करके, समाधान का उद्देश्य सार्वजनिक क्षेत्र में बहुभाषी संचार को बढ़ावा देना है।\\n\\nसमाधान अवलोकन: हम एक विशेषकृत अनुवाद इंजन प्रस्तुत करते हैं जो कानूनी और तकनीकी भाषा के अनुवाद करने की अद्वितीय चुनौतियों का समाधान करता है। इस समाधान में उन्नत प्राकृतिक भाषा प्रसंस्करण (NLP) और मशीन लर्निंग (ML) एल्गोरिदम का उपयोग किया गया है, जिन्हें व्यापक कानूनी कोर्पस और मानकीकृत शब्दकोशों पर प्रशिक्षित किया गया है। इस प्रणाली ने संदर्भ-जागरूक, सटीक अनुवाद प्रदान किया है जो मूल दस्तावेजों की अखंडता और सटीकता को बनाए रखता है, इंजन को जटिल वाक्य संरचनाओं और सूक्ष्म अर्थों का संभालन करने के लिए डिज़ाइन किया गया है जबकि गैर-विशेषज्ञ उपयोगकर्ताओं के लिए पहुंचनीय रहता है।\\n\\nमुख्य विशेषताएँ: \\n1. कानूनी और तकनीकी कोर्पस एकीकरण: \\n• व्यापक कानूनी डेटासेट और नीतियों का उपयोग करके इंजन को प्रशिक्षित करें। \\n• सुनिश्चित करें कि इंजन कानूनी शब्दावली और संदर्भों में विशेषज्ञ है। \\n2. मानकीकृत शब्दकोश: \\n• संघीय सरकार द्वारा मंजूर शब्दकोशों का उपयोग करें ताकि संवेदनशील अनुवाद सुनिश्चित हो। \\n3. संदर्भ-जागरूक NLP एल्गोरिदम: \\n• अनुवादों में अर्थात्मक सटीकता बनाए रखने के लिए उन्नत NLP मॉडल डिप्लॉय करें। \\n• जटिल कानूनी और तकनीकी भाषा को संभालने के लिए उत्कृष्ट प्राकृतिक भाषा प्रसंस्करण एल्गोरिदम का अमल करें। \\n• इंजन को संदर्भों को समझने और प्रसंस्करण करने की क्षमता में सुधार करें। \\n• जुटाई गई डेटा के साथ इंजन को कानूनी और तकनीकी शब्दों को सटीकता से संभालने के लिए प्रशिक्षित करें। \\n4. उपयोगकर्ता-मित्र संवाद: \\n• सरकारी एजेंसियों और जनता के लिए एक सरल और सुविधाजनक उपयोगकर्ता इंटरफेस विकसित करें। \\n• दस्तावेज़ इनपुट और वास्तविक समय में अनुवाद आउटपुट के लिए एक सरल इंटरफेस प्रदान करें। \\n• यह सुनिश्चित करें कि प्लेटफ़ॉर्म वेब और मोबाइल उपकरणों के माध्यम से पहुंचनीय है। \\n5. निरंतर शिक्षा और अपडेट: \\n• बेहतर सटीकता के लिए नए डेटा और प्रतिक्रिया के साथ प्रणाली को नियमित रूप से अपडेट करें। \\n\\nप्रत्याशित परिणाम: \\n• सरकारी दस्तावेज़ और सेवाओं के विश्वसनीय और सटीक अनुवाद उपयोगकर्ता की मातृभाषाओं में। \\n• गैर-मूल बोलने वालों और स्थानीय समुदायों के लिए सुधारित पहुंचनीयता और समझ। \\n• मानकीकरण और संदर्भ-जागरूक सटीकता के माध्यम से अनुवादित सामग्री में विश्वास को बढ़ावा। \\n\\nनिष्कर्ष: \\nहमारा विशेषकृत अनुवाद इंजन कानूनी और तकनीकी शब्दों को सटीकता से संभालेगा; हम भाषा की बाधाओं को दूर करने और सरकारी दस्तावेज़ और सेवाओं की सटीकता को स्थानीय भाषाओं में सुनिश्चित करने का लक्ष्य रखते हैं। यह समाधान प्रभावी संचार को बढ़ावा देगा और सभी के लिए महत्वपूर्ण कानूनी और तकनीकी जानकारी की पहुंचनीयता को बढ़ाएगा।'"
      ]
     },
     "execution_count": 93,
     "metadata": {},
     "output_type": "execute_result"
    }
   ],
   "source": [
    "output_summary"
   ]
  },
  {
   "cell_type": "markdown",
   "metadata": {},
   "source": [
    "## Summarizing Large Documents Using Map Reduce"
   ]
  },
  {
   "cell_type": "code",
   "execution_count": 3,
   "metadata": {},
   "outputs": [],
   "source": [
    "from langchain import PromptTemplate\n",
    "from langchain.chat_models import ChatOpenAI\n",
    "from langchain.chains.summarize import load_summarize_chain\n",
    "from langchain.text_splitter import RecursiveCharacterTextSplitter\n",
    "from PyPDF2 import PdfReader"
   ]
  },
  {
   "cell_type": "code",
   "execution_count": 4,
   "metadata": {},
   "outputs": [],
   "source": [
    "# provide the path of  pdf file/files.\n",
    "pdfreader = PdfReader('D:/Workspace/Project/doc-translator/new/demo.pdf')\n",
    "from typing_extensions import Concatenate\n",
    "# read text from pdf\n",
    "text = ''\n",
    "for i, page in enumerate(pdfreader.pages):\n",
    "    content = page.extract_text()\n",
    "    if content:\n",
    "        text += content"
   ]
  },
  {
   "cell_type": "code",
   "execution_count": 5,
   "metadata": {},
   "outputs": [
    {
     "name": "stderr",
     "output_type": "stream",
     "text": [
      "C:\\Users\\Nitesh\\AppData\\Local\\Temp\\ipykernel_25416\\2323620195.py:3: LangChainDeprecationWarning: The class `ChatOpenAI` was deprecated in LangChain 0.0.10 and will be removed in 1.0. An updated version of the class exists in the :class:`~langchain-openai package and should be used instead. To use it run `pip install -U :class:`~langchain-openai` and import as `from :class:`~langchain_openai import ChatOpenAI``.\n",
      "  llm = ChatOpenAI(\n"
     ]
    }
   ],
   "source": [
    "# llm = ChatOpenAI(temperature=0, model_name='gpt-3.5-turbo')\n",
    "\n",
    "llm = ChatOpenAI(\n",
    "  base_url=\"https://openrouter.ai/api/v1\",\n",
    "  api_key=\"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\",\n",
    "  model=\"gpt-3.5-turbo\",\n",
    "  temperature=0\n",
    ")"
   ]
  },
  {
   "cell_type": "code",
   "execution_count": 6,
   "metadata": {},
   "outputs": [
    {
     "data": {
      "text/plain": [
       "5545"
      ]
     },
     "execution_count": 6,
     "metadata": {},
     "output_type": "execute_result"
    }
   ],
   "source": [
    "llm.get_num_tokens(text)"
   ]
  },
  {
   "cell_type": "code",
   "execution_count": 7,
   "metadata": {},
   "outputs": [],
   "source": [
    "## Splittting the text\n",
    "text_splitter = RecursiveCharacterTextSplitter(chunk_size=10000, chunk_overlap=20)\n",
    "chunks = text_splitter.create_documents([text])"
   ]
  },
  {
   "cell_type": "code",
   "execution_count": 8,
   "metadata": {},
   "outputs": [
    {
     "data": {
      "text/plain": [
       "3"
      ]
     },
     "execution_count": 8,
     "metadata": {},
     "output_type": "execute_result"
    }
   ],
   "source": [
    "len(chunks)"
   ]
  },
  {
   "cell_type": "code",
   "execution_count": 9,
   "metadata": {},
   "outputs": [
    {
     "name": "stderr",
     "output_type": "stream",
     "text": [
      "C:\\Users\\Nitesh\\AppData\\Local\\Temp\\ipykernel_25416\\2529327746.py:6: LangChainDeprecationWarning: The method `Chain.run` was deprecated in langchain 0.1.0 and will be removed in 1.0. Use :meth:`~invoke` instead.\n",
      "  summary = chain.run(chunks)\n",
      "c:\\Users\\Nitesh\\AppData\\Local\\Programs\\Python\\Python313\\Lib\\site-packages\\langchain_community\\chat_models\\openai.py:174: UserWarning: Unexpected type for token usage: <class 'NoneType'>\n",
      "  warnings.warn(f\"Unexpected type for token usage: {type(new_usage)}\")\n"
     ]
    }
   ],
   "source": [
    "chain = load_summarize_chain(\n",
    "    llm,\n",
    "    chain_type='map_reduce',\n",
    "    verbose=False\n",
    ")\n",
    "summary = chain.run(chunks)"
   ]
  },
  {
   "cell_type": "code",
   "execution_count": 10,
   "metadata": {},
   "outputs": [
    {
     "data": {
      "text/plain": [
       "'The Google Terms of Service outline the rules and expectations for using Google services, including respecting others, not abusing the services, and granting Google permission to use content. Users retain intellectual property rights, but Google has a worldwide, non-exclusive, royalty-free license to use it. The terms cover privacy rights, feedback, and responsibilities for users, with provisions for resolving issues and removing violating content. Google reserves the right to take down content that violates their terms or laws, suspend or terminate access for breaches, and govern disputes under California law. The terms may be updated, and definitions of key terms are provided.'"
      ]
     },
     "execution_count": 10,
     "metadata": {},
     "output_type": "execute_result"
    }
   ],
   "source": [
    "summary"
   ]
  },
  {
   "cell_type": "markdown",
   "metadata": {},
   "source": [
    "## Map Reduce With Custom Prompts"
   ]
  },
  {
   "cell_type": "code",
   "execution_count": 35,
   "metadata": {},
   "outputs": [],
   "source": [
    "chunks_prompt=\"\"\"\n",
    "Please summarize the below speech:\n",
    "Speech:`{text}'\n",
    "Summary:\n",
    "\"\"\"\n",
    "map_prompt_template=PromptTemplate(input_variables=['text'],\n",
    "                                    template=chunks_prompt)"
   ]
  },
  {
   "cell_type": "code",
   "execution_count": 36,
   "metadata": {},
   "outputs": [],
   "source": [
    "final_combine_prompt='''\n",
    "Provide a final summary of the entire speech with these important points.\n",
    "Add a Generic Motivational Title,\n",
    "Start the precise summary with an introduction and provide the\n",
    "summary in number points for the speech.\n",
    "Speech: `{text}`\n",
    "'''\n",
    "final_combine_prompt_template=PromptTemplate(input_variables=['text'],\n",
    "                                             template=final_combine_prompt)"
   ]
  },
  {
   "cell_type": "code",
   "execution_count": 37,
   "metadata": {},
   "outputs": [],
   "source": [
    "summary_chain = load_summarize_chain(\n",
    "    llm=llm,\n",
    "    chain_type='map_reduce',\n",
    "    map_prompt=map_prompt_template,\n",
    "    combine_prompt=final_combine_prompt_template,\n",
    "    verbose=False\n",
    ")\n",
    "output = summary_chain.run(chunks)"
   ]
  },
  {
   "cell_type": "code",
   "execution_count": null,
   "metadata": {},
   "outputs": [],
   "source": [
    "output"
   ]
  },
  {
   "cell_type": "markdown",
   "metadata": {},
   "source": [
    "## RefineChain For Summarization"
   ]
  },
  {
   "cell_type": "code",
   "execution_count": null,
   "metadata": {},
   "outputs": [],
   "source": [
    "chain = load_summarize_chain(\n",
    "    llm=llm,\n",
    "    chain_type='refine',\n",
    "    verbose=True\n",
    ")\n",
    "output_summary = chain.run(chunks)"
   ]
  },
  {
   "cell_type": "code",
   "execution_count": null,
   "metadata": {},
   "outputs": [],
   "source": [
    "output_summary"
   ]
  },
  {
   "cell_type": "code",
   "execution_count": null,
   "metadata": {},
   "outputs": [],
   "source": []
  }
 ],
 "metadata": {
  "kernelspec": {
   "display_name": "Python 3",
   "language": "python",
   "name": "python3"
  },
  "language_info": {
   "codemirror_mode": {
    "name": "ipython",
    "version": 3
   },
   "file_extension": ".py",
   "mimetype": "text/x-python",
   "name": "python",
   "nbconvert_exporter": "python",
   "pygments_lexer": "ipython3",
   "version": "3.13.0"
  },
  "orig_nbformat": 4
 },
 "nbformat": 4,
 "nbformat_minor": 2
}
